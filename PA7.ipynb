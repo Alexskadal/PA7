{
 "cells": [
  {
   "cell_type": "code",
   "execution_count": 2,
   "id": "d25cb5a8",
   "metadata": {},
   "outputs": [
    {
     "name": "stdout",
     "output_type": "stream",
     "text": [
      "sin(pi/4) = 0.7071067811865476\n",
      "5! = 120\n",
      "Variance of [1, 2, 3, 4, 5] = 2.0\n"
     ]
    }
   ],
   "source": [
    "import math\n",
    "\n",
    "class ScientificCalculator:\n",
    "    def __init__(self):\n",
    "        self.result = 0.0\n",
    "\n",
    "    def clear(self):\n",
    "        self.result = 0.0\n",
    "\n",
    "    def add(self, x):\n",
    "        self.result += x\n",
    "\n",
    "    def subtract(self, x):\n",
    "        self.result -= x\n",
    "\n",
    "    def multiply(self, x):\n",
    "        self.result *= x\n",
    "\n",
    "    def divide(self, x):\n",
    "        if x == 0:\n",
    "            raise ZeroDivisionError\n",
    "        self.result /= x\n",
    "\n",
    "    def power(self, x):\n",
    "        self.result = math.pow(self.result, x)\n",
    "\n",
    "    def square_root(self):\n",
    "        self.result = math.sqrt(self.result)\n",
    "\n",
    "    def logarithm(self):\n",
    "        self.result = math.log(self.result)\n",
    "\n",
    "    def sine(self):\n",
    "        self.result = math.sin(self.result)\n",
    "\n",
    "    def cosine(self):\n",
    "        self.result = math.cos(self.result)\n",
    "\n",
    "    def tangent(self):\n",
    "        self.result = math.tan(self.result)\n",
    "\n",
    "    def factorial(self):\n",
    "        self.result = math.factorial(int(self.result))\n",
    "\n",
    "    def average(self, nums):\n",
    "        self.result = sum(nums) / len(nums)\n",
    "\n",
    "    def variance(self, nums):\n",
    "        mean = sum(nums) / len(nums)\n",
    "        self.result = sum((x - mean) ** 2 for x in nums) / len(nums)\n",
    "\n",
    "    def standard_deviation(self, nums):\n",
    "        mean = sum(nums) / len(nums)\n",
    "        variance = sum((x - mean) ** 2 for x in nums) / len(nums)\n",
    "        self.result = math.sqrt(variance)\n",
    " \n",
    "\n",
    "        \n",
    "calc = ScientificCalculator() #Example of an output \n",
    "\n",
    "# Calculate the sine of pi / 4\n",
    "calc.result = math.pi / 4\n",
    "calc.sine()\n",
    "print(f\"sin(pi/4) = {calc.result}\")  \n",
    "\n",
    "# Calculate the factorial of 5\n",
    "calc.result = 5\n",
    "calc.factorial()\n",
    "print(f\"5! = {calc.result}\") \n",
    "\n",
    "# Calculate the variance of a list of numbers\n",
    "nums = [1, 2, 3, 4, 5]\n",
    "calc.variance(nums)\n",
    "print(f\"Variance of {nums} = {calc.result}\") "
   ]
  }
 ],
 "metadata": {
  "kernelspec": {
   "display_name": "Python 3",
   "language": "python",
   "name": "python3"
  },
  "language_info": {
   "codemirror_mode": {
    "name": "ipython",
    "version": 3
   },
   "file_extension": ".py",
   "mimetype": "text/x-python",
   "name": "python",
   "nbconvert_exporter": "python",
   "pygments_lexer": "ipython3",
   "version": "3.8.8"
  }
 },
 "nbformat": 4,
 "nbformat_minor": 5
}
